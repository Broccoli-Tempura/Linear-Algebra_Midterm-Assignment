{
 "cells": [
  {
   "cell_type": "code",
   "execution_count": 52,
   "metadata": {},
   "outputs": [
    {
     "name": "stdout",
     "output_type": "stream",
     "text": [
      "Time passed for multiplying two 2 x 2 matrices: 0.000004530... seconds.\n",
      "Time passed for multiplying two 102 x 102 matrices: 0.129108667... seconds.\n",
      "Time passed for multiplying two 202 x 202 matrices: 1.016249657... seconds.\n",
      "Time passed for multiplying two 302 x 302 matrices: 3.728909492... seconds.\n",
      "Time passed for multiplying two 402 x 402 matrices: 8.941458464... seconds.\n",
      "Time passed for multiplying two 502 x 502 matrices: 16.763157129... seconds.\n",
      "Time passed for multiplying two 602 x 602 matrices: 29.207105398... seconds.\n",
      "Time passed for multiplying two 702 x 702 matrices: 48.711334229... seconds.\n",
      "Time passed for multiplying two 802 x 802 matrices: 70.134253263... seconds.\n",
      "Time passed for multiplying two 902 x 902 matrices: 95.888540983... seconds.\n",
      "Compared to the times with the numpy module:\n",
      "Time passed for multiplying two 2 x 2 matrices: 0.000059366... seconds.\n",
      "Time passed for multiplying two 102 x 102 matrices: 0.001242399... seconds.\n",
      "Time passed for multiplying two 202 x 202 matrices: 0.004304886... seconds.\n",
      "Time passed for multiplying two 302 x 302 matrices: 0.009358644... seconds.\n",
      "Time passed for multiplying two 402 x 402 matrices: 0.015784264... seconds.\n",
      "Time passed for multiplying two 502 x 502 matrices: 0.023312569... seconds.\n",
      "Time passed for multiplying two 602 x 602 matrices: 0.032556057... seconds.\n",
      "Time passed for multiplying two 702 x 702 matrices: 0.043228865... seconds.\n",
      "Time passed for multiplying two 802 x 802 matrices: 0.057302475... seconds.\n",
      "Time passed for multiplying two 902 x 902 matrices: 0.070643902... seconds.\n"
     ]
    }
   ],
   "source": [
    "# The following program covers Problem 01 (a-c). It first generates two lists of square matrices\n",
    "# to be used for the Problem. In a second step it calculates the matrix multiplication manually\n",
    "# and measures the time for each calculation. In a third step it uses numpy to do the matrix\n",
    "# multiplication and measures the time for each calculation. In both cases it prints the times,\n",
    "# so they can be compared easily. Part d) of Problem 01 is appended as a markdown.\n",
    "import random\n",
    "import time\n",
    "import numpy as np\n",
    "\n",
    "# Generates random matrices for later use in Problem 01.\n",
    "def generate_random_matrices():\n",
    "    square_matrices=[]\n",
    "    for n in range(2,1001,100):\n",
    "        matrix=[]\n",
    "        for i in range(n):\n",
    "            row=[random.randrange(0,9)for item in range(n)]\n",
    "            matrix.append(row)\n",
    "        square_matrices.append(matrix)\n",
    "    return square_matrices\n",
    "\n",
    "# Calculates the matrix multiplication manually and measures the time for each calculation.\n",
    "def standard_matrix_multi(matrices_1,matrices_2):\n",
    "    result_matrices=[]\n",
    "    for indx in range(len(matrices_1)):\n",
    "        item_1 = matrices_1[indx]\n",
    "        item_2 = matrices_2[indx]\n",
    "        dim=len(item_1)\n",
    "        item_3=[[0]*dim for item in range(dim)]\n",
    "        start=time.time()\n",
    "        for i in range(dim):\n",
    "            for j in range(dim):\n",
    "                for element in range(dim):\n",
    "                    item_3[i][j]+=((item_1[i][element])*(item_2[element][j]))\n",
    "        end=time.time()\n",
    "        result_matrices.append(item_3)\n",
    "        print(f'Time passed for multiplying two {dim} x {dim} matrices: {(end - start):.9f}... seconds.')\n",
    "    return result_matrices\n",
    "\n",
    "# Uses numpy to do the matrix multiplication and measures the time for each calculation.\n",
    "def numpy_multi(matrices_1,matrices_2):\n",
    "    print('Compared to the times with the numpy module:')\n",
    "    result_matrices=[]\n",
    "    for indx in range(len(matrices_1)):\n",
    "        item_1 = matrices_1[indx]\n",
    "        item_2 = matrices_2[indx]\n",
    "        dim=len(item_1)\n",
    "        start=time.time()\n",
    "        item_3=np.multiply(item_1,item_2)\n",
    "        end=time.time()\n",
    "        result_matrices.append(item_3)\n",
    "        print(f'Time passed for multiplying two {dim} x {dim} matrices: {(end - start):.9f}... seconds.')\n",
    "    return result_matrices\n",
    "\n",
    "def main():\n",
    "    matrices_1=generate_random_matrices()\n",
    "    matrices_2=generate_random_matrices()\n",
    "    standard_matrix_multi(matrices_1,matrices_2)\n",
    "    numpy_multi(matrices_1,matrices_2)\n",
    "\n",
    "if __name__ == '__main__':\n",
    "    main()\n"
   ]
  },
  {
   "cell_type": "markdown",
   "metadata": {},
   "source": [
    "Problem 01 d)\n",
    "Both time complexities are cubic, but the consistent factor in the numpy implementation is much smaller. Because numpy uses effective libaries and works closer to the machine, whereas the first implementation simulates the way we multiply matrices as humans."
   ]
  }
 ],
 "metadata": {
  "kernelspec": {
   "display_name": "Python 3",
   "language": "python",
   "name": "python3"
  },
  "language_info": {
   "codemirror_mode": {
    "name": "ipython",
    "version": 3
   },
   "file_extension": ".py",
   "mimetype": "text/x-python",
   "name": "python",
   "nbconvert_exporter": "python",
   "pygments_lexer": "ipython3",
   "version": "3.8.10"
  }
 },
 "nbformat": 4,
 "nbformat_minor": 2
}
